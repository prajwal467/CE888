{
  "nbformat": 4,
  "nbformat_minor": 0,
  "metadata": {
    "colab": {
      "name": "Lab2_Bootstrap.ipynb",
      "provenance": [],
      "collapsed_sections": []
    },
    "kernelspec": {
      "display_name": "Python 3",
      "language": "python",
      "name": "python3"
    },
    "language_info": {
      "codemirror_mode": {
        "name": "ipython",
        "version": 3
      },
      "file_extension": ".py",
      "mimetype": "text/x-python",
      "name": "python",
      "nbconvert_exporter": "python",
      "pygments_lexer": "ipython3",
      "version": "3.7.6"
    },
    "pycharm": {
      "stem_cell": {
        "cell_type": "raw",
        "metadata": {
          "collapsed": false
        },
        "source": []
      }
    },
    "accelerator": "GPU"
  },
  "cells": [
    {
      "cell_type": "markdown",
      "metadata": {
        "id": "nCi_99yMYIb1"
      },
      "source": [
        "In this notebook you'll create your own bootstrap function following the bootstrap algorithm (check the lecture notes!)"
      ]
    },
    {
      "cell_type": "code",
      "metadata": {
        "id": "LY5zujI2YC37",
        "pycharm": {
          "name": "#%%# Imports\n"
        }
      },
      "source": [
        "import matplotlib\n",
        "import pandas as pd\n",
        "import seaborn as sns\n",
        "import numpy as np\n",
        "\n"
      ],
      "execution_count": null,
      "outputs": []
    },
    {
      "cell_type": "code",
      "metadata": {
        "id": "Eqkwj4SMY38t",
        "colab": {
          "base_uri": "https://localhost:8080/",
          "height": 204
        },
        "outputId": "c733dba5-9a88-42a6-aaa2-a4b9a746309c"
      },
      "source": [
        "# Load the data\n",
        "df = pd.read_csv('https://raw.githubusercontent.com/albanda/CE888/master/lab2%20-%20bootstrap/customers.csv')\n",
        "data = df.values.T[1]\n",
        "df.head()\n",
        "df.tail()"
      ],
      "execution_count": null,
      "outputs": [
        {
          "output_type": "execute_result",
          "data": {
            "text/html": [
              "<div>\n",
              "<style scoped>\n",
              "    .dataframe tbody tr th:only-of-type {\n",
              "        vertical-align: middle;\n",
              "    }\n",
              "\n",
              "    .dataframe tbody tr th {\n",
              "        vertical-align: top;\n",
              "    }\n",
              "\n",
              "    .dataframe thead th {\n",
              "        text-align: right;\n",
              "    }\n",
              "</style>\n",
              "<table border=\"1\" class=\"dataframe\">\n",
              "  <thead>\n",
              "    <tr style=\"text-align: right;\">\n",
              "      <th></th>\n",
              "      <th>Day</th>\n",
              "      <th>Millons of pounds in sales</th>\n",
              "    </tr>\n",
              "  </thead>\n",
              "  <tbody>\n",
              "    <tr>\n",
              "      <th>9</th>\n",
              "      <td>10</td>\n",
              "      <td>10.0</td>\n",
              "    </tr>\n",
              "    <tr>\n",
              "      <th>10</th>\n",
              "      <td>11</td>\n",
              "      <td>2.0</td>\n",
              "    </tr>\n",
              "    <tr>\n",
              "      <th>11</th>\n",
              "      <td>12</td>\n",
              "      <td>4.0</td>\n",
              "    </tr>\n",
              "    <tr>\n",
              "      <th>12</th>\n",
              "      <td>13</td>\n",
              "      <td>7.0</td>\n",
              "    </tr>\n",
              "    <tr>\n",
              "      <th>13</th>\n",
              "      <td>14</td>\n",
              "      <td>9.0</td>\n",
              "    </tr>\n",
              "  </tbody>\n",
              "</table>\n",
              "</div>"
            ],
            "text/plain": [
              "    Day   Millons of pounds in sales\n",
              "9    10                         10.0\n",
              "10   11                          2.0\n",
              "11   12                          4.0\n",
              "12   13                          7.0\n",
              "13   14                          9.0"
            ]
          },
          "metadata": {
            "tags": []
          },
          "execution_count": 32
        }
      ]
    },
    {
      "cell_type": "code",
      "metadata": {
        "id": "Gxvc_bScYC4H",
        "pycharm": {
          "name": "#%%\n"
        }
      },
      "source": [
        "# Checking the notes from the lecture, create here your own bootstrap function:\n",
        "# 1. Sample from the input array x to create an array of samples of shape (n_bootstraps, sample_size)\n",
        "# Hint: Check the function random.choice() on Numpy\n",
        "# 2. Calculate and save the mean of the array (this is \"data_mean\" that is returned by the function)\n",
        "# 3. Calculate the mean from each bootstrap (i.e., row) and store it.\n",
        "# (This should be an array of n_bootstraps values)\n",
        "# 4. Calculate the lower and upper bounds for a 95% CI (hint: check the percentile function on Numpy)\n",
        "# 5. Return data_mean, and the lower and upper bounds of your interval\n",
        "def bootstrap_mean(x, sample_size, n_bootstraps):\n",
        "  \n",
        "\t#for i in range(n_bootstraps): \n",
        "  boot_mean = []\n",
        "  bootstrap = np.random.choice(x,(n_bootstraps,sample_size))\n",
        "  data_mean = np.mean(bootstrap)\n",
        "\n",
        "  for boot in bootstrap:\n",
        "     boot_mean.append(np.mean(boot))\n",
        "\n",
        "  lower = np.percentile(boot_mean,2.5)\n",
        "  upper = np.percentile(boot_mean,97.5)\n",
        "\n",
        "  \n",
        "  return data_mean, lower, upper\n",
        "\n",
        "\n",
        "#print(bootstrap_mean(data, data.shape[0], 20))"
      ],
      "execution_count": null,
      "outputs": []
    },
    {
      "cell_type": "code",
      "metadata": {
        "id": "AN7sEOcMYC4P",
        "pycharm": {
          "name": "#%%\n"
        },
        "colab": {
          "base_uri": "https://localhost:8080/",
          "height": 457
        },
        "outputId": "ad636625-2a25-4f3a-c1bb-b0e76b127dfd"
      },
      "source": [
        "# Call your bootstrap function and plot the results\n",
        "\n",
        "boots = []\n",
        "for i in range(100, 50000, 1000):\n",
        "    boot = bootstrap_mean(data, data.shape[0], i)\n",
        "    boots.append([i, boot[0], \"mean\"])\n",
        "    boots.append([i, boot[1], \"lower\"])\n",
        "    boots.append([i, boot[2], \"upper\"])\n",
        "\n",
        "df_boot = pd.DataFrame(boots, columns=['Bootstrap Iterations', 'Mean', \"Value\"])\n",
        "sns_plot = sns.lmplot(df_boot.columns[0], df_boot.columns[1], data=df_boot, fit_reg=False, hue=\"Value\")\n",
        "\n",
        "sns_plot.axes[0, 0].set_ylim(0,)\n",
        "sns_plot.axes[0, 0].set_xlim(0, 50000)\n"
      ],
      "execution_count": null,
      "outputs": [
        {
          "output_type": "stream",
          "text": [
            "/usr/local/lib/python3.6/dist-packages/seaborn/_decorators.py:43: FutureWarning: Pass the following variables as keyword args: x, y. From version 0.12, the only valid positional argument will be `data`, and passing other arguments without an explicit keyword will result in an error or misinterpretation.\n",
            "  FutureWarning\n"
          ],
          "name": "stderr"
        },
        {
          "output_type": "execute_result",
          "data": {
            "text/plain": [
              "(0.0, 50000.0)"
            ]
          },
          "metadata": {
            "tags": []
          },
          "execution_count": 34
        },
        {
          "output_type": "display_data",
          "data": {
            "image/png": "[encoded data removed]",
            "text/plain": [
              "<Figure size 425.125x360 with 1 Axes>"
            ]
          },
          "metadata": {
            "tags": [],
            "needs_background": "light"
          }
        }
      ]
    },
    {
      "cell_type": "markdown",
      "metadata": {
        "id": "MjtP4e2_YC4V"
      },
      "source": [
        "\n",
        "Now, modify the bootstrap function you created above so that you can pass your desired confidence interval as a parameter.\n",
        "\n"
      ]
    },
    {
      "cell_type": "code",
      "metadata": {
        "id": "3K9j0FuGYhHs"
      },
      "source": [
        "def bootstrap_mean_ci(sample, sample_size, n_bootstraps, ci):\n",
        "  boot_mean = []\n",
        "  bootstrap = np.random.choice(sample, (n_bootstraps,sample_size))\n",
        "  data_mean = np.mean(bootstrap)\n",
        "  for boot in bootstrap:\n",
        "     boot_mean.append(np.mean(boot))\n",
        "  alpha = (100-ci)/2\n",
        "  lower = np.percentile(boot_mean,alpha)\n",
        "  upper = np.percentile(boot_mean,100-alpha)\n",
        "\n",
        "  return data_mean,lower,upper"
      ],
      "execution_count": null,
      "outputs": []
    },
    {
      "cell_type": "code",
      "metadata": {
        "id": "uDnjq08GYl-C",
        "colab": {
          "base_uri": "https://localhost:8080/",
          "height": 457
        },
        "outputId": "cddf62a8-2a2b-4971-af37-d2fd0a30b9ff"
      },
      "source": [
        "boots = []\n",
        "for i in range(100, 50000, 1000):\n",
        "    boot = bootstrap_mean_ci(data, data.shape[0], i, 80)\n",
        "    boots.append([i, boot[0], \"mean\"])\n",
        "    boots.append([i, boot[1], \"lower\"])\n",
        "    boots.append([i, boot[2], \"upper\"])\n",
        "\n",
        "df_boot = pd.DataFrame(boots, columns=['Boostrap Iterations', 'Mean', \"Value\"])\n",
        "sns_plot = sns.lmplot(df_boot.columns[0], df_boot.columns[1], data=df_boot, fit_reg=False, hue=\"Value\")\n",
        "\n",
        "sns_plot.axes[0, 0].set_ylim(0,)\n",
        "sns_plot.axes[0, 0].set_xlim(0, 50000)\n",
        "\n",
        "#sns_plot.savefig(\"bootstrap_confidence_80.pdf\", bbox_inches='tight')\n"
      ],
      "execution_count": null,
      "outputs": [
        {
          "output_type": "stream",
          "text": [
            "/usr/local/lib/python3.6/dist-packages/seaborn/_decorators.py:43: FutureWarning: Pass the following variables as keyword args: x, y. From version 0.12, the only valid positional argument will be `data`, and passing other arguments without an explicit keyword will result in an error or misinterpretation.\n",
            "  FutureWarning\n"
          ],
          "name": "stderr"
        },
        {
          "output_type": "execute_result",
          "data": {
            "text/plain": [
              "(0.0, 50000.0)"
            ]
          },
          "metadata": {
            "tags": []
          },
          "execution_count": 36
        },
        {
          "output_type": "display_data",
          "data": {
            "image/png": "[encoded data removed]",
            "text/plain": [
              "<Figure size 425.125x360 with 1 Axes>"
            ]
          },
          "metadata": {
            "tags": [],
            "needs_background": "light"
          }
        }
      ]
    },
    {
      "cell_type": "markdown",
      "metadata": {
        "id": "qjNgXW6wdd7r"
      },
      "source": [
        "# Vehicles dataset\n",
        "\n",
        "Now let's work on a different dataset, which is stored in the vehicles.csv file.\n"
      ]
    },
    {
      "cell_type": "code",
      "metadata": {
        "id": "avWv4ipFdpka",
        "colab": {
          "base_uri": "https://localhost:8080/",
          "height": 283
        },
        "outputId": "ddf506cf-52e7-46e7-9091-774326ac639b"
      },
      "source": [
        "# Load and visualise the vehicles dataset\n",
        "# To load the dataset: https://neptune.ai/blog/google-colab-dealing-with-files (check section \"Load individual files directly from GitHub\")\n",
        "\n",
        "\n",
        "# Note that the current and new fleets are in different columns and have different lengths, so bear this in mind when you're plotting.\n",
        "# You can create separate scatterplots for the two fleets, as you would with the histograms, \n",
        "# or plot them both in one plot (but not one against the other).\n",
        "# <---INSERT YOUR CODE HERE--->\n",
        "\n",
        "\n",
        "df = pd.read_csv('https://raw.githubusercontent.com/albanda/CE888/master/lab2%20-%20bootstrap/vehicles.csv')\n",
        "#data = df.values\n",
        "df.head()\n",
        "#sns.relplot(data = df)\n",
        "#sns.lineplot(data=df)\n",
        "#df.tail()\n",
        "#sns.scatterplot(data= df.iloc[:,0])\n",
        "sns.scatterplot(data=df)\n",
        "\n",
        "\n",
        "# Note: you can add more cells as needed to organise your code and your plots\n"
      ],
      "execution_count": null,
      "outputs": [
        {
          "output_type": "execute_result",
          "data": {
            "text/plain": [
              "<matplotlib.axes._subplots.AxesSubplot at 0x7fe154013a58>"
            ]
          },
          "metadata": {
            "tags": []
          },
          "execution_count": 38
        },
        {
          "output_type": "display_data",
          "data": {
            "image/png": "[encoded data removed]",
            "text/plain": [
              "<Figure size 432x288 with 1 Axes>"
            ]
          },
          "metadata": {
            "tags": [],
            "needs_background": "light"
          }
        }
      ]
    },
    {
      "cell_type": "markdown",
      "metadata": {
        "id": "B5d0tXDpIEj8"
      },
      "source": [
        "## Compare the two fleets\n",
        "\n",
        "The business analysts come up a comparison algorithm that requires the upper and lower bounds for the mean in order to say which fleet is better.\n",
        "1. Calculate the mean of both samples.\n",
        "2. Using the bootstrap function that you created:\n",
        "    - Construct the 95% CI of the mean of the current fleet.\n",
        "    - Construct the 95% CI of the mean of the new fleet.\n",
        "    - Are they comparable? (i.e., is one better than the other?) -- you can do this with a permutation test (check the lecture notes!)"
      ]
    },
    {
      "cell_type": "code",
      "metadata": {
        "id": "po4mp6zRHC0m",
        "colab": {
          "base_uri": "https://localhost:8080/"
        },
        "outputId": "360c2780-b95b-4c12-e381-0365d5911120"
      },
      "source": [
        "# <---INSERT YOUR CODE HERE--->\n",
        "\n",
        "current_fleet = df.values.T[0]\n",
        "new_fleet= df.values.T[1]\n",
        "\n",
        "\n",
        "clean_newFleet = np.array([fleet for fleet in new_fleet if str(fleet) != 'nan'])\n",
        "\n",
        "mean_current = np.mean(current_fleet)\n",
        "mean_new = np.mean(clean_newFleet)\n",
        "\n",
        "\n",
        "\n",
        "print(\" <---- Permutation test--->\")\n",
        "\n",
        "t_obs = mean_new - mean_current  #difference of mean of origianl pair of arrays\n",
        "print(\"Difference in mean: {}\".format(t_obs))\n",
        "len_1 = current_fleet.size \n",
        "\n",
        "\n",
        "tmp_currentFleet = current_fleet\n",
        "tmp_newFleet = clean_newFleet\n",
        "\n",
        "count_true = 0\n",
        "for i in range(0,30000):\n",
        "  tmp_data = np.hstack([tmp_currentFleet, tmp_newFleet]) \n",
        "  np.random.shuffle(tmp_data) #does not return anything. SHape 328,\n",
        "  \n",
        "  tmp_currentFleet = np.array(tmp_data[:len_1])  \n",
        "  tmp_newFleet = np.array(tmp_data[len_1:])\n",
        "\n",
        "  t_perm = np.mean(tmp_newFleet) - np.mean(tmp_currentFleet) #difference of mean after shuffling\n",
        "  \n",
        "  if t_perm > t_obs:\n",
        "     count_true =count_true + 1\n",
        "\n",
        "p_value = count_true/20000\n",
        "print(\"p-value is: {}\".format(p_value))"
      ],
      "execution_count": null,
      "outputs": [
        {
          "output_type": "stream",
          "text": [
            " <---- Permutation test--->\n",
            "Difference in mean: 10.336434344974837\n",
            "p-value is: 0.0\n"
          ],
          "name": "stdout"
        }
      ]
    },
    {
      "cell_type": "code",
      "metadata": {
        "id": "MkxvDZG4HC0n"
      },
      "source": [
        "# Create your own function for a permutation test here (you will need it for the lab quiz!):\n",
        "def permut_test(sample1, sample2, n_permutations):\n",
        "    \"\"\"\n",
        "    sample1: 1D array\n",
        "    sample2: 1D array (note that the size of the two arrays can be different)\n",
        "    n_permutations: number of permutations to calculate the p-value\n",
        "    \"\"\" \n",
        "    sample1 = np.array(sample1)\n",
        "    sample2 = np.array(sample2)\n",
        "    \n",
        "    t_obs = np.mean(sample1) - np.mean(sample2)\n",
        "    len_1 = sample1.size\n",
        "    len_2 = sample2.size\n",
        "    tmp_sample1 = sample1\n",
        "    tmp_sample2 = sample2\n",
        "    n_count = 0\n",
        "    for i in range(0,n_permutations):\n",
        "      combined_data = np.hstack([tmp_sample1,tmp_sample2])\n",
        "      np.random.shuffle(combined_data) #does not return anything.\n",
        "      tmp_sample1 = np.array(combined_data[:len_1])\n",
        "      tmp_sample2 = np.array(combined_data[len_1:])\n",
        "      t_perm = np.mean(tmp_sample2) - np.mean(tmp_sample1)\n",
        "      if t_perm > t_obs:\n",
        "        n_count= n_count + 1\n",
        "      pvalue = n_count/n_permutations\n",
        "\n",
        "\n",
        "    return pvalue\n",
        "\n",
        "#testing with given data  \n",
        "#print(permut_test(np.array([0, 0, 0, 0, 0, 0, 1, 0, 0, 1, 0]),np.array([1, 0, 0, 1, 1, 1, 0, 0, 0, 1, 0]),20000)) "
      ],
      "execution_count": null,
      "outputs": []
    },
    {
      "cell_type": "code",
      "metadata": {
        "colab": {
          "base_uri": "https://localhost:8080/"
        },
        "id": "MhozphXbnpU4",
        "outputId": "b5b25ea0-05d6-4ee5-e487-f92742c94150"
      },
      "source": [
        "  # <--- This is for writing and testing with the data in class notes pdf-->##\n",
        "\n",
        "  x = np.array([0, 0, 0, 0, 0, 0, 1, 0, 0, 1, 0]) #x= old\n",
        "  y = np.array([1, 0, 0, 1, 1, 1, 0, 0, 0, 1, 0]) #y = new\n",
        "  x_mean = np.mean(x)\n",
        "  y_mean = np.mean(y)\n",
        "  t_obs_1 = y_mean - x_mean\n",
        "  len_1 = x.size\n",
        "  len_2 = y.size\n",
        "  print(len_1)\n",
        "  \n",
        "  tmp_x = x\n",
        "  tmp_y = y\n",
        "  count = 0\n",
        "  for i in range(0,20000):\n",
        "    new_data = np.hstack([tmp_x,tmp_y])\n",
        "    np.random.shuffle(new_data) #does not return anything.\n",
        "    tmp_x = np.array(new_data[:len_1])\n",
        "    tmp_y = np.array(new_data[len_2:])\n",
        "    t_perm_1 = np.mean(tmp_y) - np.mean(tmp_x)\n",
        "    if t_perm_1 > t_obs_1:\n",
        "      count+= 1\n",
        "  \n",
        "  p_value = count/20000\n",
        "  print(p_value)\n",
        "\n",
        "\n"
      ],
      "execution_count": null,
      "outputs": [
        {
          "output_type": "stream",
          "text": [
            "11\n",
            "0.0327\n"
          ],
          "name": "stdout"
        }
      ]
    },
    {
      "cell_type": "markdown",
      "metadata": {
        "id": "NdW_p6mnjbjt"
      },
      "source": [
        "Creating function for Standard deviation "
      ]
    },
    {
      "cell_type": "code",
      "metadata": {
        "id": "w9XHlWhWdF7f"
      },
      "source": [
        "# bootstrap for Standard deviation \n",
        "\n",
        "def bootstrap_sd_ci(sample, sample_size, n_bootstraps, ci):\n",
        "  boot_sd = []\n",
        "  bootstrap = np.random.choice(sample, (n_bootstraps,sample_size))\n",
        "  data_sd = np.std(bootstrap)\n",
        "  for boot in bootstrap:\n",
        "     boot_sd.append(np.std(boot))\n",
        "  alpha = (100-ci)/2\n",
        "  lower = np.percentile(boot_sd,alpha)\n",
        "  upper = np.percentile(boot_sd,100-alpha)\n",
        "\n",
        "  return data_sd,lower,upper\n",
        "\n",
        "#x= np.array([0, 1, 0, 0, 0, 0, 0, 1, 0, 0, 0])\n",
        "##print(#)"
      ],
      "execution_count": null,
      "outputs": []
    },
    {
      "cell_type": "markdown",
      "metadata": {
        "id": "UokXqf7JjPiS"
      },
      "source": [
        "# **Quiz attempt 4 for lab**"
      ]
    },
    {
      "cell_type": "code",
      "metadata": {
        "colab": {
          "base_uri": "https://localhost:8080/"
        },
        "id": "VvR7grPY8T6E",
        "outputId": "ede75de2-6076-44df-b1c8-352231792c9c"
      },
      "source": [
        "\n",
        "#Q The 60% confidence interval for the mean of the new fleet in the vehicles dataset using 10000 iterations is\n",
        "new_lowerUpper = bootstrap_mean_ci(clean_newFleet, clean_newFleet.shape[0], 10000,60)\n",
        "new_upper = round(new_lowerUpper[2],2)\n",
        "new_lower = round(new_lowerUpper[1],2)\n",
        "\n",
        "print(new_upper,new_lower)"
      ],
      "execution_count": null,
      "outputs": [
        {
          "output_type": "stream",
          "text": [
            "31.05 29.91\n"
          ],
          "name": "stdout"
        }
      ]
    },
    {
      "cell_type": "code",
      "metadata": {
        "colab": {
          "base_uri": "https://localhost:8080/"
        },
        "id": "9egKc5EqAQKY",
        "outputId": "b75833b9-ae06-403a-df34-1fcad3923f90"
      },
      "source": [
        "#Q. the 90% confidence interval for the mean of the customers dataset using 10000 iterations is\n",
        "\n",
        "customer_UpperLower = bootstrap_mean_ci(data, data.shape[0], 10000, 90)\n",
        "\n",
        "\n",
        "print(round(customer_UpperLower[2],2),round(customer_UpperLower[1],2))"
      ],
      "execution_count": null,
      "outputs": [
        {
          "output_type": "stream",
          "text": [
            "11.86 6.86\n"
          ],
          "name": "stdout"
        }
      ]
    },
    {
      "cell_type": "code",
      "metadata": {
        "colab": {
          "base_uri": "https://localhost:8080/"
        },
        "id": "rp-sxbQ-g0SO",
        "outputId": "54fdbca9-ea86-40a7-e328-de07fae8fa34"
      },
      "source": [
        "#The 73% confidence interval for the standard deviation of the old fleet in the vehicles dataset using 10000 iterations is\n",
        "sd_customer = bootstrap_sd_ci(data, data.shape[0], 10000,73)\n",
        "customer_sd_upper = round(sd_customer[2],2)\n",
        "customer_sd_lower = round(sd_customer[1],2)\n",
        "\n",
        "\n",
        "\n",
        "print(customer_sd_lower,customer_sd_upper)"
      ],
      "execution_count": null,
      "outputs": [
        {
          "output_type": "stream",
          "text": [
            "2.25 7.77\n"
          ],
          "name": "stdout"
        }
      ]
    },
    {
      "cell_type": "code",
      "metadata": {
        "colab": {
          "base_uri": "https://localhost:8080/"
        },
        "id": "fg6GpqVTf-l6",
        "outputId": "1dd7c6e0-dd54-408f-d478-0b6f73847dcd"
      },
      "source": [
        "#The 73% confidence interval for the standard deviation of the old fleet in the vehicles dataset using 10000 iterations is\n",
        "current_lowerUpper = bootstrap_sd_ci(current_fleet, current_fleet.shape[0], 10000,73)\n",
        "current_upper = round(current_lowerUpper[2],2)\n",
        "current_lower = round(current_lowerUpper[1],2)\n",
        "\n",
        "print(current_lower,current_upper)"
      ],
      "execution_count": null,
      "outputs": [
        {
          "output_type": "stream",
          "text": [
            "6.06 6.71\n"
          ],
          "name": "stdout"
        }
      ]
    },
    {
      "cell_type": "code",
      "metadata": {
        "colab": {
          "base_uri": "https://localhost:8080/"
        },
        "id": "5gmFZxEm9oW_",
        "outputId": "cd5ab64c-e028-4de0-f406-6d4ed2ac5237"
      },
      "source": [
        "#<Question 3: The 80% confidence interval for the mean of the old fleet in the vehicles dataset using 10000 iterations is--->>>\n",
        "current_lowerUpper = bootstrap_mean_ci(current_fleet, current_fleet.shape[0], 10000,80)\n",
        "current_upper = round(current_lowerUpper[2],2)\n",
        "current_lower = round(current_lowerUpper[1],2)\n",
        "\n",
        "print(current_lower,current_upper)"
      ],
      "execution_count": null,
      "outputs": [
        {
          "output_type": "stream",
          "text": [
            "19.63 20.68\n"
          ],
          "name": "stdout"
        }
      ]
    },
    {
      "cell_type": "code",
      "metadata": {
        "colab": {
          "base_uri": "https://localhost:8080/"
        },
        "id": "AwUKd1jTpe2k",
        "outputId": "95dcd994-f7fd-44a6-af9c-4ba1ba8a3901"
      },
      "source": [
        "# The variables below represent the percentages of democratic votes in Pennsylvania and Ohio (one value for each state).\n",
        "dem_share_PA = [60.08, 40.64, 36.07, 41.21, 31.04, 43.78, 44.08, 46.85, 44.71, 46.15, 63.10, 52.20, 43.18, 40.24, 39.92, 47.87, 37.77, 40.11, 49.85, 48.61, 38.62, 54.25, 34.84, 47.75, 43.82, 55.97, 58.23, 42.97, 42.38, 36.11, 37.53, 42.65, 50.96, 47.43, 56.24, 45.60, 46.39, 35.22, 48.56, 32.97, 57.88, 36.05, 37.72, 50.36, 32.12, 41.55, 54.66, 57.81, 54.58, 32.88, 54.37, 40.45, 47.61, 60.49, 43.11, 27.32, 44.03, 33.56, 37.26, 54.64, 43.12, 25.34, 49.79, 83.56, 40.09, 60.81, 49.81]\n",
        "dem_share_OH = [56.94, 50.46, 65.99, 45.88, 42.23, 45.26, 57.01, 53.61, 59.10, 61.48, 43.43, 44.69, 54.59, 48.36, 45.89, 48.62, 43.92, 38.23, 28.79, 63.57, 38.07, 40.18, 43.05, 41.56, 42.49, 36.06, 52.76, 46.07, 39.43, 39.26, 47.47, 27.92, 38.01, 45.45, 29.07, 28.94, 51.28, 50.10, 39.84, 36.43, 35.71, 31.47, 47.01, 40.10, 48.76, 31.56, 39.86, 45.31, 35.47, 51.38, 46.33, 48.73, 41.77, 41.32, 48.46, 53.14, 34.01, 54.74, 40.67, 38.96, 46.29, 38.25, 6.80, 31.75, 46.33, 44.90, 33.57, 38.10, 39.67, 40.47, 49.44, 37.62, 36.71, 46.73, 42.20, 53.16, 52.40, 58.36, 68.02, 38.53, 34.58, 69.64, 60.50, 53.53, 36.54, 49.58, 41.97, 38.11]\n",
        "\n",
        "\n",
        "print(len(dem_share_PA), len(dem_share_OH))\n",
        "share_PA = np.array(dem_share_PA)\n",
        "share_OH = np.array(dem_share_OH)\n",
        "\n",
        "#print(np.mean(share_PA), np.mean(share_OH))\n",
        "\n",
        "#Q8: The 95% confidence intervals for the means of the votes using 20000 bootstraps are:\n",
        "PA_UpperLower = bootstrap_mean_ci(share_PA, share_PA.shape[0], 20000,95)\n",
        "PA_upper = round(PA_UpperLower[2],2)\n",
        "PA_lower = round(PA_UpperLower[1],2)\n",
        "\n",
        "OH_UpperLower = bootstrap_mean_ci(share_OH, share_OH.shape[0], 20000,95)\n",
        "OH_upper = round(OH_UpperLower[2],2)\n",
        "OH_lower = round(OH_UpperLower[1],2)\n",
        "\n",
        "print(\"for PA: {},{}\".format(PA_upper, PA_lower))\n",
        "print(\"for OH: {},{}\".format(OH_upper, OH_lower))\n",
        "\n",
        "#taking out the p-value\n",
        "\n",
        "print(round(permut_test(dem_share_PA, dem_share_OH, 30000),3))\n"
      ],
      "execution_count": null,
      "outputs": [
        {
          "output_type": "stream",
          "text": [
            "67 88\n",
            "for PA: 47.82,43.21\n",
            "for OH: 46.36,42.24\n",
            "0.237\n"
          ],
          "name": "stdout"
        }
      ]
    }
  ]
}